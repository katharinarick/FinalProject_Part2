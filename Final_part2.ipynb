{
 "cells": [
  {
   "cell_type": "markdown",
   "metadata": {},
   "source": [
    "# Recap from Part 1 - Data analytics options include:\n",
    "The fuel economy data contains year by year usage information from 1984 through to 2017. The dataset includes a variety of car makes and models (about 133 unique makes). The information allows to play around with several potential problem statements.\n",
    "1. Consumer decision on which car to buy based on usage city, highway or both\n",
    "    > based on data of last ~3 years (about 4,000 cars), we could build a model that suggests best car to buy\n",
    "    <br> allowing to optimize on gas/mileage ration, total spend, original cost of purchase (not in dataset), GHG emissions or size\n",
    "2. Environmnental concerns of cities\n",
    "    > look at time series changes (1984 to 2017) for city-traffic (to be broken out)\n",
    "    <br> correlate to share of electric vehicles and SUVs, share of cars with more passengers or loading capacity, automatic drive vs. stick shift (or other technical specs)\n",
    "    <br> find 'worst polluters' to be banned or taxed from city traffic going forward and/or which factors minimize pollution\n",
    "3. Car maker competition around car performance\n",
    "    > comparison of: number vehicles sold per year (YoY), MPG or range for e-vehicles, CO2-/GHG emissions per model/fleet\n",
    "    <br> which car maker sells the most vehicles (fairest of them all) or has 'best fleet' - are there specific themes"
   ]
  },
  {
   "cell_type": "markdown",
   "metadata": {},
   "source": [
    "### Alternative data set considered: Amazon data"
   ]
  },
  {
   "cell_type": "markdown",
   "metadata": {},
   "source": [
    "### Feedback on Part 1 - from Donnie Ahmad:"
   ]
  },
  {
   "cell_type": "markdown",
   "metadata": {},
   "source": [
    "**Notes on Final Project Pt 1**: Your problem statements are impressively thorough--it is clear that the car dataset has a lot of potential. But remember that the name of the game is “prediction.” I see a lot of questions that are more data analysis than data science--which is fair given how little machine learning we have done so far. Keep the idea of the `target variable` in mind. For example, you ask “Which factors minimize CO2 or GHG pollution?” There is a clear number you can predict. However, for “Which car (make and/or model) would be the best buy?”, you would first have to rank the cars and *then* find which factors can help us predict the ranking. Great work so far!"
   ]
  },
  {
   "cell_type": "markdown",
   "metadata": {},
   "source": [
    "# Part 2: Restatement and Refinement of Problem Statement"
   ]
  },
  {
   "cell_type": "markdown",
   "metadata": {},
   "source": [
    "The objective of Part 2 is to define data sources and outline specific goals"
   ]
  },
  {
   "cell_type": "markdown",
   "metadata": {},
   "source": [
    "## Specific problem statement(s)"
   ]
  },
  {
   "cell_type": "markdown",
   "metadata": {},
   "source": [
    "In line with feedback (*see above*) - making this more **predictive**\n",
    "<br>\n",
    "<br>**Part 1**: Forecast the CO2 or GHG emissions (for cities specifically) based on car mix and usage\n",
    "<br>\n",
    "<br>**Part 2**: Build decision tree to see which factors have highest impact on CO2 or GHG emissions"
   ]
  },
  {
   "cell_type": "markdown",
   "metadata": {},
   "source": [
    "## Detailed outline\n",
    "### Hypothesis/assumptions\n",
    "<br>**Part 1**: CO2 or GHG emissions in city traffic are going to remain constant or increase slightly. There are offsetting factors between increase in share of electric vehicles and higher share of SUVs, on the other hand. Both of these *new trends* are on top of the *existing fleet* and the relatively low replacement rate. Electric or hybrid vehicles should have lower emissions and are well suited for short-distance travel. SUVs have become increasingly popular, even in cities. Old vehicles are replaced relatively slowly (distinguish replace vs. new)\n",
    "<br> \n",
    "<br>**Part 2**: Decision tree can help to narrow down specifications that drive CO2 or GHG emissions and allow cities and governments to tax or ban certain models or fine car makers that have a particularly high fleet-share of models with these features\n",
    "<br>\n",
    "### Goals and success metrics\n",
    "<br>**Part 1**: goal is to correctly predict development of CO2 and GHG emissions in last few years of historic dataset (using the information on earlier dataset). Success metrics: training and test error (accuracy_score) - target accuracy of 70-80%\n",
    "<br> \n",
    "<br>**Part 2**: goal is to find driving factors of CO2 and GHG that reasonably explain CO2 and GHG emissions\n",
    "<br>\n",
    "### Risks or limitations\n",
    "<br>**Part 1**: risk is exponential growth of a certain model-category, e.g. electric vehicles, which will be hard to tell from the historic data. Might need to pull in a 'external consumer pattern' factor to compensate and fit the model better\n",
    "<br> \n",
    "<br>**Part 2**: Decision tree might find no statistically relevant factors, because technical specs change too much and too often over time; in that case it might make sense to limit the decision tree to the 'latest models'"
   ]
  },
  {
   "cell_type": "markdown",
   "metadata": {},
   "source": [
    "### Choice of specific (parts of the) dataset and why"
   ]
  },
  {
   "cell_type": "markdown",
   "metadata": {},
   "source": [
    "**Part 1**: Need to look at mix of car fleet (by maker, age, type of model, size), share of city traffic (and how that evolves) as well as CO2 and GHG performance of the models making up the mix --- this is basically a three-part problem:\n",
    "1. decide on what future car fleet looks like\n",
    "2. define portion of city vs high-way traffic\n",
    "3. relate CO2/GHG emissions to city traffic and car fleet"
   ]
  },
  {
   "cell_type": "markdown",
   "metadata": {},
   "source": [
    "**Part 2**: The decision-tree will need all technical specs/input factors per car model or car maker fleet; excluding fully electric vehicles (no emissions) to determine if car size, number of cylinders, automatic/stick shift etc. drive emissions OR the user behavior (city vs. highway traffic -- via MPG because amount of fuel burnt should relate to emissions)"
   ]
  },
  {
   "cell_type": "code",
   "execution_count": null,
   "metadata": {
    "collapsed": true
   },
   "outputs": [],
   "source": []
  }
 ],
 "metadata": {
  "kernelspec": {
   "display_name": "Python 3",
   "language": "python",
   "name": "python3"
  },
  "language_info": {
   "codemirror_mode": {
    "name": "ipython",
    "version": 3
   },
   "file_extension": ".py",
   "mimetype": "text/x-python",
   "name": "python",
   "nbconvert_exporter": "python",
   "pygments_lexer": "ipython3",
   "version": "3.6.3"
  }
 },
 "nbformat": 4,
 "nbformat_minor": 2
}
